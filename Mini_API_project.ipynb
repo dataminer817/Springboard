{
 "cells": [
  {
   "cell_type": "code",
   "execution_count": 1,
   "id": "ddb03e57",
   "metadata": {},
   "outputs": [
    {
     "name": "stdout",
     "output_type": "stream",
     "text": [
      "The highest opening price was 53.11\n",
      "The lowest opening price was 34.0\n",
      "The largest change in any one day was 2.8100000000000023\n",
      "The largest change between any two subsequent days was 2.559999999999995\n",
      "The average daily trading volume during this period was 89124.33725490196\n"
     ]
    }
   ],
   "source": [
    "import requests\n",
    "import json\n",
    "\n",
    "# Get json info for 2017\n",
    "json_url = requests.get(\"https://data.nasdaq.com/api/v3/datasets/FSE/AFX_X/data.json?api_key=iS5HcFWRVEToEfP29chC&start_date='2017-01-01'&end_date='2017-12-31'\")\n",
    "json_text = json_url.text\n",
    "\n",
    "# load into dictionary\n",
    "dict1=json.JSONDecoder().decode(json_text)\n",
    "\n",
    "\n",
    "#Q3  Calculate what the highest and lowest opening prices were for the stock in this period.   \n",
    "highest_opening = 0\n",
    "lowest_opening = float('inf')\n",
    "\n",
    "for data in dict1['dataset_data']['data']:\n",
    "    opening = data[1]\n",
    "    if opening is not None and opening > highest_opening and highest_opening is not None:\n",
    "        highest_opening = opening\n",
    "    if opening is not None and opening < lowest_opening and lowest_opening is not None:\n",
    "        lowest_opening = opening\n",
    "\n",
    "print(f\"The highest opening price was {highest_opening}\")\n",
    "print(f\"The lowest opening price was {lowest_opening}\")\n",
    "\n",
    "#Q4  What was the largest change in any one day (based on High and Low price)?\n",
    "largest_change = 0\n",
    "\n",
    "for data in dict1['dataset_data']['data']:\n",
    "    change = data[2] - data[3]\n",
    "    if change > largest_change:\n",
    "        largest_change = change\n",
    "\n",
    "print(f\"The largest change in any one day was {largest_change}\")\n",
    "\n",
    "#Q5  What was the largest change between any two days (based on Closing Price)?\n",
    "largest_change_2days = 0\n",
    "\n",
    "for i in range(len(dict1['dataset_data']['data'])-1):\n",
    "    change2days = dict1['dataset_data']['data'][i+1][4] - dict1['dataset_data']['data'][i][4]\n",
    "    if change2days > largest_change_2days:\n",
    "        largest_change_2days = change2days\n",
    "\n",
    "print(f\"The largest change between any two subsequent days was {largest_change_2days}\")\n",
    "\n",
    "#Q6  What was the average daily trading volume during this year?\n",
    "total_volume = 0\n",
    "for data in dict1['dataset_data']['data']:\n",
    "    total_volume += data[6]\n",
    "\n",
    "average_volume = total_volume/len(dict1['dataset_data']['data'])\n",
    "\n",
    "print(f\"The average daily trading volume during this period was {average_volume}\")\n",
    "    \n"
   ]
  },
  {
   "cell_type": "code",
   "execution_count": null,
   "id": "286237ca",
   "metadata": {},
   "outputs": [],
   "source": []
  }
 ],
 "metadata": {
  "kernelspec": {
   "display_name": "Python 3 (ipykernel)",
   "language": "python",
   "name": "python3"
  },
  "language_info": {
   "codemirror_mode": {
    "name": "ipython",
    "version": 3
   },
   "file_extension": ".py",
   "mimetype": "text/x-python",
   "name": "python",
   "nbconvert_exporter": "python",
   "pygments_lexer": "ipython3",
   "version": "3.9.13"
  }
 },
 "nbformat": 4,
 "nbformat_minor": 5
}
