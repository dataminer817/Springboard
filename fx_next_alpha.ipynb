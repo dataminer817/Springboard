{
 "cells": [
  {
   "cell_type": "code",
   "execution_count": 1,
   "metadata": {
    "collapsed": false
   },
   "outputs": [
    {
     "name": "stdout",
     "output_type": "stream",
     "text": [
      "ghijyz{\n"
     ]
    }
   ],
   "source": [
    "# hands on project: given a string move each char 1 ord\n",
    "# and test for when input is not a string\n",
    "def next_alpha(text_in, shift_num):\n",
    "    text_out = ''\n",
    "    try: \n",
    "        int(text_in)   \n",
    "        print('input is not a string')\n",
    "    except:\n",
    "            for s in text_in:\n",
    "                    s =  chr(ord(s) + shift_num)\n",
    "                    text_out += s\n",
    "    finally:\n",
    "            print(text_out) \n",
    "next_alpha('fghixyz',1) "
   ]
  },
  {
   "cell_type": "code",
   "execution_count": null,
   "metadata": {
    "collapsed": true
   },
   "outputs": [],
   "source": []
  }
 ],
 "metadata": {
  "kernelspec": {
   "display_name": "Python 3",
   "language": "python",
   "name": "python3"
  },
  "language_info": {
   "codemirror_mode": {
    "name": "ipython",
    "version": 3
   },
   "file_extension": ".py",
   "mimetype": "text/x-python",
   "name": "python",
   "nbconvert_exporter": "python",
   "pygments_lexer": "ipython3",
   "version": "3.6.0"
  }
 },
 "nbformat": 4,
 "nbformat_minor": 2
}
