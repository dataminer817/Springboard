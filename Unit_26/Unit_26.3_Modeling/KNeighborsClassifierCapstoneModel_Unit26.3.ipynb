{
 "cells": [
  {
   "cell_type": "code",
   "execution_count": 2,
   "metadata": {},
   "outputs": [],
   "source": [
    "import pandas as pd\n",
    "from sklearn.linear_model import LogisticRegression\n",
    "from sklearn.metrics import accuracy_score\n",
    "from sklearn.model_selection import GridSearchCV\n",
    "from sklearn.preprocessing import StandardScaler\n",
    "\n",
    "# Read the training and test datasets\n",
    "train_df = pd.read_csv('C:\\\\Users\\\\Robert\\\\Documents\\\\Development\\\\VS_Code\\\\data_input\\\\cc_train.csv')\n",
    "test_df = pd.read_csv('C:\\\\Users\\\\Robert\\\\Documents\\\\Development\\\\VS_Code\\\\data_input\\\\cc_test.csv')\n",
    "\n",
    "# Replace all blank, null or NaN values to that columns' Mean value\n",
    "train_df = train_df.fillna(train_df.mean())\n",
    "# Replace all blank, null or NaN values to that columns' Mean value\n",
    "test_df = test_df.fillna(test_df.mean())\n",
    "\n",
    "# Split the training dataset into features and target\n",
    "X_train = train_df.drop('Credit_Score_Number', axis=1)\n",
    "y_train = train_df['Credit_Score_Number']\n",
    "y_test = test_df['Credit_Score_Number']\n",
    "\n",
    "# ensure same number of columns\n",
    "test_df = test_df.drop('Credit_Score_Number', axis=1)"
   ]
  },
  {
   "cell_type": "code",
   "execution_count": 4,
   "metadata": {},
   "outputs": [],
   "source": [
    "X = train_df.drop('Credit_Score_Number', axis=1)\n",
    "y = train_df['Credit_Score_Number']"
   ]
  },
  {
   "cell_type": "code",
   "execution_count": 5,
   "metadata": {},
   "outputs": [
    {
     "name": "stdout",
     "output_type": "stream",
     "text": [
      "[[2238 1110   46]\n",
      " [ 901 5285  270]\n",
      " [  39 1556  568]]\n",
      "0.6735203529509698\n"
     ]
    }
   ],
   "source": [
    "\n",
    "#\n",
    "from sklearn.neighbors import KNeighborsClassifier\n",
    "#from sklearn.metrics import plot_roc_curve\n",
    "from sklearn.metrics import confusion_matrix\n",
    "from sklearn.model_selection import  train_test_split\n",
    "\n",
    "# Split the dataset into training and testing sets\n",
    "X_train, X_test, y_train, y_test = train_test_split(X, y, test_size=0.2, random_state=42)\n",
    "\n",
    "# Apply KNN model to training data:\n",
    "knn = KNeighborsClassifier(p=2,weights='distance',n_neighbors=50)\n",
    "knn.fit(X_train,y_train)\n",
    "\n",
    "# Predict using model:\n",
    "y_predict_knn=knn.predict(X_test)\n",
    "\n",
    "#Confusion matrix:\n",
    "cnf_matrix = confusion_matrix(y_test, y_predict_knn)\n",
    "print(cnf_matrix)\n",
    "Accuracy_knn=knn.score(X_test,y_test)\n",
    "\n",
    "print(Accuracy_knn)\n",
    "#knn_disp= plot_roc_curve(knn,X_test,y_test)"
   ]
  },
  {
   "cell_type": "code",
   "execution_count": 8,
   "metadata": {},
   "outputs": [],
   "source": [
    "# Define the hyperparameters to tune; this ran for 733 minutes\n",
    "param_grid = {\n",
    "    'n_neighbors': list(range(1, 101)),  # Change the range as needed\n",
    "    'weights': ['uniform', 'distance'],\n",
    "    'p': [1, 2]\n",
    "}\n",
    "\n",
    "# Create the GridSearchCV object\n",
    "grid_search = GridSearchCV(estimator=knn, param_grid=param_grid, cv=5, scoring='accuracy', n_jobs=-1)\n",
    "\n",
    "# Fit the GridSearchCV object to the data\n",
    "grid_search.fit(X_train, y_train)\n",
    "\n",
    "# Get the best parameters\n",
    "best_params = grid_search.best_params_\n",
    "print(\"Best parameters: \", best_params)\n",
    "\n",
    "# Apply the best KNN model to the training data\n",
    "best_knn = KNeighborsClassifier(**best_params)\n",
    "best_knn.fit(X_train, y_train)\n",
    "\n",
    "# Predict using the best model\n",
    "y_predict_knn = best_knn.predict(X_test)\n",
    "\n",
    "# Confusion matrix\n",
    "cnf_matrix = confusion_matrix(y_test, y_predict_knn)\n",
    "print(cnf_matrix)\n",
    "\n",
    "# Calculate the accuracy\n",
    "accuracy_knn = best_knn.score(X_test, y_test)\n",
    "print(accuracy_knn)"
   ]
  }
 ],
 "metadata": {
  "kernelspec": {
   "display_name": "base",
   "language": "python",
   "name": "python3"
  },
  "language_info": {
   "codemirror_mode": {
    "name": "ipython",
    "version": 3
   },
   "file_extension": ".py",
   "mimetype": "text/x-python",
   "name": "python",
   "nbconvert_exporter": "python",
   "pygments_lexer": "ipython3",
   "version": "3.9.13"
  },
  "orig_nbformat": 4
 },
 "nbformat": 4,
 "nbformat_minor": 2
}
