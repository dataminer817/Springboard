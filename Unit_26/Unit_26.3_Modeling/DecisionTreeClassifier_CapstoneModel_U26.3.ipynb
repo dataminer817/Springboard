{
 "cells": [
  {
   "cell_type": "code",
   "execution_count": 1,
   "metadata": {},
   "outputs": [],
   "source": [
    "import pandas as pd\n",
    "from sklearn.tree import DecisionTreeClassifier\n",
    "from sklearn.metrics import accuracy_score\n",
    "from sklearn.model_selection import GridSearchCV\n",
    "from sklearn.preprocessing import StandardScaler"
   ]
  },
  {
   "cell_type": "code",
   "execution_count": 2,
   "metadata": {},
   "outputs": [],
   "source": [
    "# Load & read the training and test datasets\n",
    "train_df = pd.read_csv('C:\\\\Users\\\\Robert\\\\Documents\\\\Development\\\\VS_Code\\\\data_input\\\\cc_train.csv')\n",
    "test_df = pd.read_csv('C:\\\\Users\\\\Robert\\\\Documents\\\\Development\\\\VS_Code\\\\data_input\\\\cc_test.csv')\n",
    "\n",
    "# Replace all blank, null or NaN values to that columns' Mean value\n",
    "train_df = train_df.fillna(train_df.mean())\n",
    "# Replace all blank, null or NaN values to that columns' Mean value\n",
    "test_df = test_df.fillna(test_df.mean())"
   ]
  },
  {
   "cell_type": "code",
   "execution_count": 3,
   "metadata": {},
   "outputs": [],
   "source": [
    "# Split the training dataset into features and target\n",
    "X_train = train_df.drop('Credit_Score_Number', axis=1)\n",
    "y_train = train_df['Credit_Score_Number']\n",
    "\n",
    "y_test = test_df['Credit_Score_Number']\n",
    "test_df = test_df.drop('Credit_Score_Number', axis=1)"
   ]
  },
  {
   "cell_type": "code",
   "execution_count": 5,
   "metadata": {},
   "outputs": [],
   "source": [
    "# Create a decision tree classifier\n",
    "clf = DecisionTreeClassifier()"
   ]
  },
  {
   "cell_type": "code",
   "execution_count": 6,
   "metadata": {},
   "outputs": [
    {
     "data": {
      "text/plain": [
       "DecisionTreeClassifier()"
      ]
     },
     "execution_count": 6,
     "metadata": {},
     "output_type": "execute_result"
    }
   ],
   "source": [
    "# Fit the classifier to the training data\n",
    "clf.fit(X_train, y_train)"
   ]
  },
  {
   "cell_type": "code",
   "execution_count": 7,
   "metadata": {},
   "outputs": [],
   "source": [
    "\n",
    "# Make predictions on the test data\n",
    "y_pred = clf.predict(test_df)"
   ]
  },
  {
   "cell_type": "code",
   "execution_count": 12,
   "metadata": {},
   "outputs": [
    {
     "name": "stdout",
     "output_type": "stream",
     "text": [
      "1.0\n",
      "1.0\n"
     ]
    }
   ],
   "source": [
    "# alt method just to view the clf.score\n",
    "from sklearn.model_selection import  train_test_split\n",
    "X = train_df.drop('Credit_Score_Number', axis=1)\n",
    "y = train_df['Credit_Score_Number']\n",
    "# Split the dataset into training and testing sets\n",
    "X_train, X_test, y_train, y_test = train_test_split(X, y, test_size=0.3, random_state=42)\n",
    "print(clf.score(X_train,y_train))\n",
    "print(clf.score(X_test,y_test))"
   ]
  },
  {
   "cell_type": "code",
   "execution_count": 10,
   "metadata": {},
   "outputs": [
    {
     "name": "stdout",
     "output_type": "stream",
     "text": [
      "  Accuracy: 0.68\n",
      "  Recall: 0.68\n",
      "  Precision: 0.68\n",
      "  F1 score: 0.68\n",
      "\n"
     ]
    }
   ],
   "source": [
    "# ran this since the hyperparameter script took too long to finish\n",
    "from sklearn.metrics import accuracy_score, recall_score, precision_score, f1_score\n",
    "\n",
    "# Calculate evaluation metrics\n",
    "accuracy = accuracy_score(y_test, y_pred)\n",
    "recall = recall_score(y_test, y_pred, average='weighted')\n",
    "precision = precision_score(y_test, y_pred, average='weighted')\n",
    "f1 = f1_score(y_test, y_pred, average='weighted')\n",
    "\n",
    "    # Print evaluation metrics\n",
    "#print(f\"{name}:\")\n",
    "print(f\"  Accuracy: {accuracy:.2f}\")\n",
    "print(f\"  Recall: {recall:.2f}\")\n",
    "print(f\"  Precision: {precision:.2f}\")\n",
    "print(f\"  F1 score: {f1:.2f}\\n\")"
   ]
  },
  {
   "cell_type": "code",
   "execution_count": 8,
   "metadata": {},
   "outputs": [
    {
     "name": "stdout",
     "output_type": "stream",
     "text": [
      "Accuracy: 0.6831379861481087\n"
     ]
    }
   ],
   "source": [
    "# Calculate the accuracy of the predictions\n",
    "accuracy = accuracy_score(y_test, y_pred)\n",
    "\n",
    "# Print the accuracy\n",
    "print('Accuracy:', accuracy)"
   ]
  },
  {
   "cell_type": "code",
   "execution_count": 9,
   "metadata": {},
   "outputs": [
    {
     "name": "stdout",
     "output_type": "stream",
     "text": [
      "Fitting 5 folds for each of 432 candidates, totalling 2160 fits\n",
      "Best Hyperparameters:\n",
      "{'criterion': 'gini', 'max_depth': 10, 'max_features': None, 'min_samples_leaf': 1, 'min_samples_split': 2, 'splitter': 'best'}\n",
      "Best Accuracy Score:\n",
      "0.7019081171332899\n"
     ]
    }
   ],
   "source": [
    "\n",
    "# Load dataset\n",
    "cc_train = train_df  #pd.read_csv('cc_train.csv')\n",
    "\n",
    "# Separate features (X) and target (y) in the train dataset\n",
    "#X_train = cc_train.iloc[:, :63]\n",
    "#y_train = cc_train['Credit_Score_Number']\n",
    "\n",
    "# Scale the features\n",
    "scaler = StandardScaler()\n",
    "X_train_scaled = scaler.fit_transform(X_train)\n",
    "\n",
    "# Create a Decision Tree Classifier instance\n",
    "dt_classifier = DecisionTreeClassifier()\n",
    "\n",
    "\n",
    "# Define hyperparameter search space\n",
    "param_grid = {\n",
    "    'max_depth': [3, 5, 10, None],\n",
    "    'min_samples_split': [2, 5, 10],\n",
    "    'min_samples_leaf': [1, 3, 5],\n",
    "    'max_features': ['sqrt', 'log2', None],\n",
    "    'criterion': ['gini', 'entropy'],\n",
    "    'splitter': ['best', 'random']\n",
    "}\n",
    "\n",
    "# Set up Grid Search with Cross-Validation\n",
    "grid_search = GridSearchCV(dt_classifier, param_grid, cv=5, scoring='accuracy', n_jobs=-1, verbose=1)\n",
    "\n",
    "# Perform Grid Search\n",
    "grid_search.fit(X_train_scaled, y_train)\n",
    "\n",
    "# Print best hyperparameters\n",
    "print(\"Best Hyperparameters:\")\n",
    "print(grid_search.best_params_)\n",
    "\n",
    "# Print best accuracy score\n",
    "print(\"Best Accuracy Score:\")\n",
    "print(grid_search.best_score_)\n",
    "\n",
    "#Fitting 5 folds for each of 432 candidates, totalling 2160 fits\n",
    "#Best Hyperparameters:\n",
    "#{'criterion': 'gini', 'max_depth': 10, 'max_features': None, 'min_samples_leaf': 1, 'min_samples_split': 2, 'splitter': 'best'}\n",
    "#Best Accuracy Score:\n",
    "#0.7019081171332899"
   ]
  }
 ],
 "metadata": {
  "kernelspec": {
   "display_name": "base",
   "language": "python",
   "name": "python3"
  },
  "language_info": {
   "codemirror_mode": {
    "name": "ipython",
    "version": 3
   },
   "file_extension": ".py",
   "mimetype": "text/x-python",
   "name": "python",
   "nbconvert_exporter": "python",
   "pygments_lexer": "ipython3",
   "version": "3.9.13"
  },
  "orig_nbformat": 4
 },
 "nbformat": 4,
 "nbformat_minor": 2
}
