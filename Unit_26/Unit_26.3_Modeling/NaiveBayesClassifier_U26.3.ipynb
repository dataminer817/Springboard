{
 "cells": [
  {
   "cell_type": "code",
   "execution_count": 1,
   "metadata": {},
   "outputs": [
    {
     "name": "stdout",
     "output_type": "stream",
     "text": [
      "Accuracy: 0.5540\n"
     ]
    }
   ],
   "source": [
    "import pandas as pd\n",
    "from sklearn.naive_bayes import GaussianNB\n",
    "from sklearn.metrics import accuracy_score\n",
    "\n",
    "# Read the training and test datasets\n",
    "train_df = pd.read_csv('C:\\\\Users\\\\Robert\\\\Documents\\\\Development\\\\VS_Code\\\\data_input\\\\cc_train.csv')\n",
    "test_df = pd.read_csv('C:\\\\Users\\\\Robert\\\\Documents\\\\Development\\\\VS_Code\\\\data_input\\\\cc_test.csv')\n",
    "\n",
    "# Replace all blank, null or NaN values with the columns' mean value\n",
    "train_df = train_df.fillna(train_df.mean())\n",
    "test_df = test_df.fillna(test_df.mean())\n",
    "\n",
    "# Split the training dataset into features and target\n",
    "X_train = train_df.drop('Credit_Score_Number', axis=1)\n",
    "y_train = train_df['Credit_Score_Number']\n",
    "\n",
    "# Split the test dataset into features and target\n",
    "X_test = test_df.drop('Credit_Score_Number', axis=1)\n",
    "y_test = test_df['Credit_Score_Number']\n",
    "\n",
    "# Train the Gaussian Naive Bayes classifier\n",
    "gnb_classifier = GaussianNB()\n",
    "gnb_classifier.fit(X_train, y_train)\n",
    "\n",
    "# Make predictions on the test set\n",
    "y_pred = gnb_classifier.predict(X_test)\n",
    "\n",
    "# Calculate and print the accuracy score\n",
    "accuracy = accuracy_score(y_test, y_pred)\n",
    "print(f'Accuracy: {accuracy:.4f}')"
   ]
  },
  {
   "cell_type": "code",
   "execution_count": 2,
   "metadata": {},
   "outputs": [
    {
     "name": "stdout",
     "output_type": "stream",
     "text": [
      "  Accuracy: 0.55\n",
      "  Recall: 0.55\n",
      "  Precision: 0.56\n",
      "  F1 score: 0.55\n",
      "\n"
     ]
    }
   ],
   "source": [
    "# another way to evaluate the output\n",
    "from sklearn.metrics import accuracy_score, recall_score, precision_score, f1_score\n",
    "\n",
    "# Calculate evaluation metrics\n",
    "accuracy = accuracy_score(y_test, y_pred)\n",
    "recall = recall_score(y_test, y_pred, average='weighted')\n",
    "precision = precision_score(y_test, y_pred, average='weighted')\n",
    "f1 = f1_score(y_test, y_pred, average='weighted')\n",
    "\n",
    "    # Print evaluation metrics\n",
    "#print(f\"{name}:\")\n",
    "print(f\"  Accuracy: {accuracy:.2f}\")\n",
    "print(f\"  Recall: {recall:.2f}\")\n",
    "print(f\"  Precision: {precision:.2f}\")\n",
    "print(f\"  F1 score: {f1:.2f}\\n\")\n",
    "# Accuracy: 0.55\n",
    "# Recall: 0.55\n",
    "# Precision: 0.56\n",
    "# F1 score: 0.55"
   ]
  }
 ],
 "metadata": {
  "kernelspec": {
   "display_name": "base",
   "language": "python",
   "name": "python3"
  },
  "language_info": {
   "codemirror_mode": {
    "name": "ipython",
    "version": 3
   },
   "file_extension": ".py",
   "mimetype": "text/x-python",
   "name": "python",
   "nbconvert_exporter": "python",
   "pygments_lexer": "ipython3",
   "version": "3.9.13"
  },
  "orig_nbformat": 4
 },
 "nbformat": 4,
 "nbformat_minor": 2
}
