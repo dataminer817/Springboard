{
 "cells": [
  {
   "cell_type": "code",
   "execution_count": 2,
   "metadata": {},
   "outputs": [
    {
     "name": "stderr",
     "output_type": "stream",
     "text": [
      "c:\\Users\\Robert\\Anaconda3\\lib\\site-packages\\xgboost\\sklearn.py:1395: UserWarning: `use_label_encoder` is deprecated in 1.7.0.\n",
      "  warnings.warn(\"`use_label_encoder` is deprecated in 1.7.0.\")\n"
     ]
    },
    {
     "name": "stdout",
     "output_type": "stream",
     "text": [
      "Accuracy: 0.7446584161163217\n",
      "Classification report:\n",
      "               precision    recall  f1-score   support\n",
      "\n",
      "           0       0.75      0.72      0.73      5194\n",
      "           1       0.76      0.79      0.78      9600\n",
      "           2       0.67      0.66      0.67      3225\n",
      "\n",
      "    accuracy                           0.74     18019\n",
      "   macro avg       0.73      0.72      0.73     18019\n",
      "weighted avg       0.74      0.74      0.74     18019\n",
      "\n",
      "Confusion matrix:\n",
      " [[3719 1299  176]\n",
      " [1176 7559  865]\n",
      " [  53 1032 2140]]\n",
      "  Accuracy: 0.74\n",
      "  Recall: 0.74\n",
      "  Precision: 0.74\n",
      "  F1 score: 0.74\n",
      "\n"
     ]
    }
   ],
   "source": [
    "import numpy as np\n",
    "import pandas as pd\n",
    "from xgboost import XGBClassifier\n",
    "from sklearn.model_selection import train_test_split\n",
    "from sklearn.metrics import accuracy_score, classification_report, confusion_matrix\n",
    "from sklearn.metrics import accuracy_score, recall_score, precision_score, f1_score\n",
    "\n",
    "# Read the training and test datasets\n",
    "train_df = pd.read_csv('C:\\\\Users\\\\Robert\\\\Documents\\\\Development\\\\VS_Code\\\\data_input\\\\cc_train.csv')\n",
    "test_df = pd.read_csv('C:\\\\Users\\\\Robert\\\\Documents\\\\Development\\\\VS_Code\\\\data_input\\\\cc_test.csv')\n",
    "\n",
    "# Replace all blank, null or NaN values to that columns' Mean value\n",
    "train_df = train_df.fillna(train_df.mean())\n",
    "# Replace all blank, null or NaN values to that columns' Mean value\n",
    "test_df = test_df.fillna(test_df.mean())\n",
    "\n",
    "# Split the training dataset into features and target\n",
    "X_train = train_df.drop('Credit_Score_Number', axis=1)\n",
    "y_train = train_df['Credit_Score_Number'] - 1  # Subtract 1 from the target labels\n",
    "y_test = test_df['Credit_Score_Number'] - 1  # Subtract 1 from the target labels\n",
    "\n",
    "# ensure same number of columns\n",
    "test_df = test_df.drop('Credit_Score_Number', axis=1)\n",
    "\n",
    "X = train_df.drop('Credit_Score_Number', axis=1)\n",
    "y = train_df['Credit_Score_Number'] - 1  # Subtract 1 from the target labels\n",
    "\n",
    "# Split data into training and testing sets (70% training, 30% testing)\n",
    "X_train, X_test, y_train, y_test = train_test_split(X, y, test_size=0.3, random_state=42)\n",
    "\n",
    "# Train the XGBoost classifier\n",
    "xgb_classifier = XGBClassifier(use_label_encoder=False, eval_metric=\"logloss\")\n",
    "xgb_classifier.fit(X_train, y_train)\n",
    "\n",
    "# Make predictions on the test set\n",
    "y_pred = xgb_classifier.predict(X_test)\n",
    "\n",
    "# Evaluate the classifier\n",
    "accuracy = accuracy_score(y_test, y_pred)\n",
    "print(\"Accuracy:\", accuracy)\n",
    "print(\"Classification report:\\n\", classification_report(y_test, y_pred))\n",
    "print(\"Confusion matrix:\\n\", confusion_matrix(y_test, y_pred))\n",
    "recall = recall_score(y_test, y_pred, average='weighted')\n",
    "precision = precision_score(y_test, y_pred, average='weighted')\n",
    "f1 = f1_score(y_test, y_pred, average='weighted')\n",
    "\n",
    "    # Print evaluation metrics\n",
    "#print(f\"{name}:\")\n",
    "print(f\"  Accuracy: {accuracy:.2f}\")\n",
    "print(f\"  Recall: {recall:.2f}\")\n",
    "print(f\"  Precision: {precision:.2f}\")\n",
    "print(f\"  F1 score: {f1:.2f}\\n\")\n"
   ]
  }
 ],
 "metadata": {
  "kernelspec": {
   "display_name": "base",
   "language": "python",
   "name": "python3"
  },
  "language_info": {
   "codemirror_mode": {
    "name": "ipython",
    "version": 3
   },
   "file_extension": ".py",
   "mimetype": "text/x-python",
   "name": "python",
   "nbconvert_exporter": "python",
   "pygments_lexer": "ipython3",
   "version": "3.9.13"
  },
  "orig_nbformat": 4
 },
 "nbformat": 4,
 "nbformat_minor": 2
}
